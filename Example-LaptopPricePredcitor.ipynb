{
 "cells": [
  {
   "cell_type": "markdown",
   "metadata": {
    "id": "L-xGsNhcGlRq"
   },
   "source": [
    "# **IMPORTS**"
   ]
  },
  {
   "cell_type": "code",
   "execution_count": null,
   "metadata": {
    "id": "46KcoTLEFq5h"
   },
   "outputs": [],
   "source": [
    "import numpy as np\n",
    "import pandas as pd\n",
    "import matplotlib.pyplot as plt"
   ]
  },
  {
   "cell_type": "markdown",
   "metadata": {
    "id": "-BVWZLjVGFdl"
   },
   "source": [
    "# **GET THE DATA CSV**"
   ]
  },
  {
   "cell_type": "code",
   "execution_count": null,
   "metadata": {
    "id": "o6liNXNaGL8V"
   },
   "outputs": [],
   "source": [
    "df = pd.read_csv('laptop_data.csv')"
   ]
  },
  {
   "cell_type": "code",
   "execution_count": null,
   "metadata": {
    "colab": {
     "base_uri": "https://localhost:8080/",
     "height": 0
    },
    "id": "ALLil9zmGPi9",
    "outputId": "ba470765-ed3b-460f-e346-b9e26c64581b"
   },
   "outputs": [],
   "source": [
    "df.head()"
   ]
  },
  {
   "cell_type": "markdown",
   "metadata": {
    "id": "MRoEYBtCGbl5"
   },
   "source": [
    "**Coloums, Rows**"
   ]
  },
  {
   "cell_type": "code",
   "execution_count": null,
   "metadata": {
    "colab": {
     "base_uri": "https://localhost:8080/"
    },
    "id": "rMcLZZB-GZJ-",
    "outputId": "061ee915-e729-4cf6-de01-517ec878b1ba"
   },
   "outputs": [],
   "source": [
    "df.shape"
   ]
  },
  {
   "cell_type": "markdown",
   "metadata": {
    "id": "4sDUUSIzGfr_"
   },
   "source": [
    "**Data Types**"
   ]
  },
  {
   "cell_type": "code",
   "execution_count": null,
   "metadata": {
    "colab": {
     "base_uri": "https://localhost:8080/"
    },
    "id": "dujf0d1hGiEv",
    "outputId": "43ffc708-bf0c-4045-b93d-af950bc053c8"
   },
   "outputs": [],
   "source": [
    "df.info()"
   ]
  },
  {
   "cell_type": "markdown",
   "metadata": {
    "id": "eg-6ZulZHDBr"
   },
   "source": [
    "**Duplicates Rows**"
   ]
  },
  {
   "cell_type": "code",
   "execution_count": null,
   "metadata": {
    "colab": {
     "base_uri": "https://localhost:8080/"
    },
    "id": "nX9CjdSGHM_e",
    "outputId": "95ac308e-e6d5-4b4c-c336-d7ac55d912f2"
   },
   "outputs": [],
   "source": [
    "df.duplicated().sum()"
   ]
  },
  {
   "cell_type": "markdown",
   "metadata": {
    "id": "oTEh7kbzJHM0"
   },
   "source": [
    "**Missing Values**"
   ]
  },
  {
   "cell_type": "code",
   "execution_count": null,
   "metadata": {
    "colab": {
     "base_uri": "https://localhost:8080/",
     "height": 0
    },
    "id": "1B2WwGwwHQLv",
    "outputId": "c3ead343-9612-43e8-dbc8-1e4fb8186dbc"
   },
   "outputs": [],
   "source": [
    "df.isnull().sum()"
   ]
  },
  {
   "cell_type": "markdown",
   "metadata": {
    "id": "yUM_B9V4JMyl"
   },
   "source": [
    "# **Data Pre Processing**"
   ]
  },
  {
   "cell_type": "markdown",
   "metadata": {
    "id": "Vr-4k9zXJb-r"
   },
   "source": [
    "## **Remove Unnamed : 0 Coloumn**"
   ]
  },
  {
   "cell_type": "code",
   "execution_count": null,
   "metadata": {
    "id": "iUVXN_m2JwEa"
   },
   "outputs": [],
   "source": [
    "df.drop(columns=['Unnamed: 0'],inplace=True)"
   ]
  },
  {
   "cell_type": "code",
   "execution_count": null,
   "metadata": {
    "colab": {
     "base_uri": "https://localhost:8080/",
     "height": 0
    },
    "id": "Nzix2NtRJ1wi",
    "outputId": "27a1da2b-f1ed-4a9e-dc38-ad35262d706d"
   },
   "outputs": [],
   "source": [
    "df.head()"
   ]
  },
  {
   "cell_type": "markdown",
   "metadata": {
    "id": "fZOjPqDEKoD5"
   },
   "source": []
  },
  {
   "cell_type": "markdown",
   "metadata": {
    "id": "t0oUl7qRKpSo"
   },
   "source": [
    "## **Ram, Weight Coloum to numeric**"
   ]
  },
  {
   "cell_type": "markdown",
   "metadata": {
    "id": "N9h0veMmLDhz"
   },
   "source": [
    "**Remove Strings**"
   ]
  },
  {
   "cell_type": "code",
   "execution_count": null,
   "metadata": {
    "id": "z375eLYzK42M"
   },
   "outputs": [],
   "source": [
    "df['Ram'] = df['Ram'].str.replace('GB','')\n",
    "df['Weight'] = df['Weight'].str.replace('kg','')"
   ]
  },
  {
   "cell_type": "code",
   "execution_count": null,
   "metadata": {
    "colab": {
     "base_uri": "https://localhost:8080/",
     "height": 0
    },
    "id": "iJfnyPR7K9FU",
    "outputId": "f89b3ed1-fccf-4e0c-c307-ae078c941821"
   },
   "outputs": [],
   "source": [
    "df.head()"
   ]
  },
  {
   "cell_type": "markdown",
   "metadata": {
    "id": "Bu1AUlZDLGn8"
   },
   "source": [
    "**Convert to int**"
   ]
  },
  {
   "cell_type": "code",
   "execution_count": null,
   "metadata": {
    "id": "Mm0LMFJfLJ2F"
   },
   "outputs": [],
   "source": [
    "df['Company'] = df['Company'].astype('str')\n",
    "df['Ram'] = df['Ram'].astype('int32')\n",
    "df['Weight'] = df['Weight'].astype('float32')"
   ]
  },
  {
   "cell_type": "code",
   "execution_count": null,
   "metadata": {
    "colab": {
     "base_uri": "https://localhost:8080/"
    },
    "id": "YvyIvU02LLDF",
    "outputId": "7a49810f-3d01-4d63-dd27-57ba22c203c4"
   },
   "outputs": [],
   "source": [
    "df.info()"
   ]
  },
  {
   "cell_type": "markdown",
   "metadata": {
    "id": "W83y4EGVLROu"
   },
   "source": [
    "# **Data Analysis (EDA)** - with transformations"
   ]
  },
  {
   "cell_type": "markdown",
   "metadata": {
    "id": "vxY0z_iiLanv"
   },
   "source": [
    "**Imports**"
   ]
  },
  {
   "cell_type": "code",
   "execution_count": null,
   "metadata": {
    "id": "bigTCV_2LlGA"
   },
   "outputs": [],
   "source": [
    "import seaborn as sns"
   ]
  },
  {
   "cell_type": "markdown",
   "metadata": {
    "id": "C_NdwVBzLqdL"
   },
   "source": [
    "**Price Distribution** - its skewed"
   ]
  },
  {
   "cell_type": "code",
   "execution_count": null,
   "metadata": {
    "colab": {
     "base_uri": "https://localhost:8080/",
     "height": 0
    },
    "id": "vnnZbssEL4iP",
    "outputId": "4d78327e-cc4d-448d-c96d-1a440d10ce11"
   },
   "outputs": [],
   "source": [
    "sns.distplot(df['Price'])"
   ]
  },
  {
   "cell_type": "markdown",
   "metadata": {
    "id": "MlKZaM_aL-57"
   },
   "source": [
    "**Laptop Brands**"
   ]
  },
  {
   "cell_type": "code",
   "execution_count": null,
   "metadata": {
    "colab": {
     "base_uri": "https://localhost:8080/",
     "height": 0
    },
    "id": "mEHpQ9oPMEJE",
    "outputId": "c444c7b7-7dc5-4c3b-aa81-3e038ebcca73"
   },
   "outputs": [],
   "source": [
    "df['Company'].value_counts().plot(kind='bar')"
   ]
  },
  {
   "cell_type": "markdown",
   "metadata": {
    "id": "7ow9WMolMLO3"
   },
   "source": [
    "**Price Of Each Brand**"
   ]
  },
  {
   "cell_type": "code",
   "execution_count": null,
   "metadata": {
    "colab": {
     "base_uri": "https://localhost:8080/",
     "height": 0
    },
    "id": "KIGK0kSuMQvu",
    "outputId": "c548cf41-a505-4bad-fd13-7c1ef58b9d2b"
   },
   "outputs": [],
   "source": [
    "sns.barplot(x=df['Company'],y=df['Price'])\n",
    "plt.xticks(rotation='vertical')\n",
    "plt.show()"
   ]
  },
  {
   "cell_type": "markdown",
   "metadata": {
    "id": "yDwHUme1MWSy"
   },
   "source": [
    "**How Many Types Of Laptop**"
   ]
  },
  {
   "cell_type": "code",
   "execution_count": null,
   "metadata": {
    "colab": {
     "base_uri": "https://localhost:8080/",
     "height": 0
    },
    "id": "gbk4dsQ9Musx",
    "outputId": "f0e7a17e-3b0f-44c4-a6da-a4c32730b356"
   },
   "outputs": [],
   "source": [
    "df['TypeName'].value_counts().plot(kind='bar')"
   ]
  },
  {
   "cell_type": "markdown",
   "metadata": {
    "id": "rr78ogKbMzEi"
   },
   "source": [
    "**Price For Each Types**"
   ]
  },
  {
   "cell_type": "code",
   "execution_count": null,
   "metadata": {
    "colab": {
     "base_uri": "https://localhost:8080/",
     "height": 0
    },
    "id": "Gqw56JNSMdmv",
    "outputId": "21af653f-6ed1-41fe-e9f7-e43f773f5e2e"
   },
   "outputs": [],
   "source": [
    "sns.barplot(x=df['Company'],y=df['Price'])\n",
    "plt.xticks(rotation='vertical')\n",
    "plt.show()"
   ]
  },
  {
   "cell_type": "markdown",
   "metadata": {
    "id": "sW8ecBuxM5ci"
   },
   "source": [
    "**Sizes**"
   ]
  },
  {
   "cell_type": "code",
   "execution_count": null,
   "metadata": {
    "colab": {
     "base_uri": "https://localhost:8080/",
     "height": 0
    },
    "id": "YMQ6EGgAM8bU",
    "outputId": "73c35939-4aaf-48ad-de7d-5965807a804f"
   },
   "outputs": [],
   "source": [
    "sns.distplot(df['Inches'])"
   ]
  },
  {
   "cell_type": "markdown",
   "metadata": {
    "id": "oa9MmxypNKrW"
   },
   "source": [
    "**Corelation of size to price** - not that strong"
   ]
  },
  {
   "cell_type": "code",
   "execution_count": null,
   "metadata": {
    "colab": {
     "base_uri": "https://localhost:8080/",
     "height": 0
    },
    "id": "OSNWRIsLM-iD",
    "outputId": "d7ca1856-1fe3-4f60-8318-56d6eed55ef8"
   },
   "outputs": [],
   "source": [
    "sns.scatterplot(x=df['Inches'],y=df['Price'])"
   ]
  },
  {
   "cell_type": "markdown",
   "metadata": {
    "id": "t-3wfvs0NFEM"
   },
   "source": [
    "**Screen Resolution**"
   ]
  },
  {
   "cell_type": "code",
   "execution_count": null,
   "metadata": {
    "colab": {
     "base_uri": "https://localhost:8080/",
     "height": 0
    },
    "id": "KSzzneI-Naqw",
    "outputId": "44434ca8-9b81-430d-dbda-80d230343615"
   },
   "outputs": [],
   "source": [
    "df['ScreenResolution'].value_counts()"
   ]
  },
  {
   "cell_type": "markdown",
   "metadata": {
    "id": "kBD_XCezOjdx"
   },
   "source": [
    "## Feature Engeneering for TouchScreen"
   ]
  },
  {
   "cell_type": "markdown",
   "metadata": {
    "id": "gbMflCfeNhJR"
   },
   "source": [
    "**Check if all laptops are touchscreen or not** -  with lamda function 1 if touchscreen else 0"
   ]
  },
  {
   "cell_type": "code",
   "execution_count": null,
   "metadata": {
    "id": "f9-mz0YkNr_5"
   },
   "outputs": [],
   "source": [
    "df['Touchscreen'] = df['ScreenResolution'].apply(lambda x:1 if 'Touchscreen' in x else 0)"
   ]
  },
  {
   "cell_type": "markdown",
   "metadata": {
    "id": "WWMck0-nNtrr"
   },
   "source": [
    "**sampling test**"
   ]
  },
  {
   "cell_type": "code",
   "execution_count": null,
   "metadata": {
    "colab": {
     "base_uri": "https://localhost:8080/",
     "height": 0
    },
    "id": "wHTFrm22NyHT",
    "outputId": "1a8047bc-1d45-47b6-f0ce-a4a07560bc5d"
   },
   "outputs": [],
   "source": [
    "df.sample(5)"
   ]
  },
  {
   "cell_type": "markdown",
   "metadata": {
    "id": "skWAescaN3CC"
   },
   "source": [
    "**Number Of Touch Screen Laptops**"
   ]
  },
  {
   "cell_type": "code",
   "execution_count": null,
   "metadata": {
    "colab": {
     "base_uri": "https://localhost:8080/",
     "height": 0
    },
    "id": "ksFe6lHAN8mk",
    "outputId": "02434df8-b326-4699-f235-a71bb4ce4dd8"
   },
   "outputs": [],
   "source": [
    "df['Touchscreen'].value_counts().plot(kind='bar')"
   ]
  },
  {
   "cell_type": "markdown",
   "metadata": {
    "id": "nGoI--ccODIh"
   },
   "source": [
    "**Price Variation for TouchScreen Laptops**"
   ]
  },
  {
   "cell_type": "code",
   "execution_count": null,
   "metadata": {
    "colab": {
     "base_uri": "https://localhost:8080/",
     "height": 0
    },
    "id": "DDZhthuZOLj9",
    "outputId": "d2e724a9-7474-4e1e-fec1-0228db4c1227"
   },
   "outputs": [],
   "source": [
    "sns.barplot(x=df['Touchscreen'],y=df['Price'])"
   ]
  },
  {
   "cell_type": "code",
   "execution_count": null,
   "metadata": {
    "colab": {
     "base_uri": "https://localhost:8080/",
     "height": 0
    },
    "id": "I7UMIgKLOOT9",
    "outputId": "009b4d48-a4cd-4c08-b401-bf72589d1ef1"
   },
   "outputs": [],
   "source": [
    "df.head()"
   ]
  },
  {
   "cell_type": "markdown",
   "metadata": {
    "id": "lAySuuu0O0v8"
   },
   "source": [
    "## Feature Engineering For Screen Resolution"
   ]
  },
  {
   "cell_type": "markdown",
   "metadata": {
    "id": "E559oE36PMze"
   },
   "source": [
    "**Ips Resolution**"
   ]
  },
  {
   "cell_type": "code",
   "execution_count": null,
   "metadata": {
    "id": "n5PCganUPRGG"
   },
   "outputs": [],
   "source": [
    "df['Ips'] = df['ScreenResolution'].apply(lambda x:1 if 'IPS' in x else 0)"
   ]
  },
  {
   "cell_type": "code",
   "execution_count": null,
   "metadata": {
    "colab": {
     "base_uri": "https://localhost:8080/",
     "height": 0
    },
    "id": "F3v1yipDPefX",
    "outputId": "143931c3-f9f6-4f06-bc4a-2a7d70398fa0"
   },
   "outputs": [],
   "source": [
    "df.head()"
   ]
  },
  {
   "cell_type": "markdown",
   "metadata": {
    "id": "HKiQkoWNPjm6"
   },
   "source": [
    "**Count Of Ips**"
   ]
  },
  {
   "cell_type": "code",
   "execution_count": null,
   "metadata": {
    "colab": {
     "base_uri": "https://localhost:8080/",
     "height": 0
    },
    "id": "KEmw75mpPnBR",
    "outputId": "fb2b8470-304e-4e51-c6bb-c6fe92c12bf0"
   },
   "outputs": [],
   "source": [
    "df['Ips'].value_counts().plot(kind='bar')"
   ]
  },
  {
   "cell_type": "markdown",
   "metadata": {
    "id": "Zs8LaLVyPmkJ"
   },
   "source": [
    "**Ips Corelation to price**"
   ]
  },
  {
   "cell_type": "code",
   "execution_count": null,
   "metadata": {
    "colab": {
     "base_uri": "https://localhost:8080/",
     "height": 0
    },
    "id": "NuznpDbwPtBC",
    "outputId": "2cdcad54-0277-48c1-a8e9-dd0ff4813921"
   },
   "outputs": [],
   "source": [
    "sns.barplot(x=df['Ips'],y=df['Price'])"
   ]
  },
  {
   "cell_type": "markdown",
   "metadata": {
    "id": "v6Dey_q1P2mV"
   },
   "source": [
    "### Converting to numericals"
   ]
  },
  {
   "cell_type": "markdown",
   "metadata": {
    "id": "ptQCboFgP73r"
   },
   "source": [
    "**Split into 2**"
   ]
  },
  {
   "cell_type": "code",
   "execution_count": null,
   "metadata": {
    "id": "JzRjSJ3xQA8r"
   },
   "outputs": [],
   "source": [
    "new = df['ScreenResolution'].str.split('x',n=1,expand=True)"
   ]
  },
  {
   "cell_type": "markdown",
   "metadata": {
    "id": "DE50IUXPQB6j"
   },
   "source": [
    "**Store In New Col**"
   ]
  },
  {
   "cell_type": "code",
   "execution_count": null,
   "metadata": {
    "id": "aX5RRzl5QEC0"
   },
   "outputs": [],
   "source": [
    "df['X_res'] = new[0]\n",
    "df['Y_res'] = new[1]"
   ]
  },
  {
   "cell_type": "code",
   "execution_count": null,
   "metadata": {
    "colab": {
     "base_uri": "https://localhost:8080/",
     "height": 0
    },
    "id": "-VesQC8yQHLc",
    "outputId": "3ed9a251-6001-4b40-d840-18cc1843d6b1"
   },
   "outputs": [],
   "source": [
    "df.sample(5)"
   ]
  },
  {
   "cell_type": "markdown",
   "metadata": {
    "id": "GO4ROv95QYT3"
   },
   "source": [
    "**Regex to filter the x_res col**"
   ]
  },
  {
   "cell_type": "code",
   "execution_count": null,
   "metadata": {
    "id": "0lP77TnGQb6A"
   },
   "outputs": [],
   "source": [
    "df['X_res'] = df['X_res'].str.replace(',','').str.findall(r'(\\d+\\.?\\d+)').apply(lambda x:x[0])"
   ]
  },
  {
   "cell_type": "code",
   "execution_count": null,
   "metadata": {
    "colab": {
     "base_uri": "https://localhost:8080/",
     "height": 0
    },
    "id": "DCjwL5y3QeWv",
    "outputId": "42b51f5a-1614-4146-d4f8-7aa9f236b042"
   },
   "outputs": [],
   "source": [
    "df.head()"
   ]
  },
  {
   "cell_type": "markdown",
   "metadata": {
    "id": "zueFuDlBQhjQ"
   },
   "source": [
    "**Type Conversion**"
   ]
  },
  {
   "cell_type": "code",
   "execution_count": null,
   "metadata": {
    "id": "GK5T8l4sQkzw"
   },
   "outputs": [],
   "source": [
    "df['X_res'] = df['X_res'].astype('int')\n",
    "df['Y_res'] = df['Y_res'].astype('int')"
   ]
  },
  {
   "cell_type": "code",
   "execution_count": null,
   "metadata": {
    "colab": {
     "base_uri": "https://localhost:8080/"
    },
    "id": "eQCaVJ4UQmYp",
    "outputId": "963df7ff-5017-487b-b80c-5a043b371ea0"
   },
   "outputs": [],
   "source": [
    "df.info()"
   ]
  },
  {
   "cell_type": "markdown",
   "metadata": {
    "id": "wUDBtxUPQuhh"
   },
   "source": [
    "### Corrleations with price"
   ]
  },
  {
   "cell_type": "code",
   "execution_count": null,
   "metadata": {
    "colab": {
     "base_uri": "https://localhost:8080/",
     "height": 0
    },
    "id": "fg4hg3ORRZA4",
    "outputId": "2f6b68bf-ab0a-4c4f-c3ff-4551ba8354d1"
   },
   "outputs": [],
   "source": [
    "df.select_dtypes(include=np.number).corr()['Price']"
   ]
  },
  {
   "cell_type": "markdown",
   "metadata": {
    "id": "zuQU5jE1RvJD"
   },
   "source": [
    "**new Coloumn ppi from x_res, y_res and Inches** - got a stronger attribute"
   ]
  },
  {
   "cell_type": "code",
   "execution_count": null,
   "metadata": {
    "id": "RpvqJhVjR3LR"
   },
   "outputs": [],
   "source": [
    "df['ppi'] = (((df['X_res']**2) + (df['Y_res']**2))**0.5/df['Inches']).astype('float')"
   ]
  },
  {
   "cell_type": "code",
   "execution_count": null,
   "metadata": {
    "colab": {
     "base_uri": "https://localhost:8080/",
     "height": 0
    },
    "id": "WGUoLXWhR5vq",
    "outputId": "4272524a-5c3e-4ee4-d050-0f28d6394047"
   },
   "outputs": [],
   "source": [
    "df.select_dtypes(include=np.number).corr()['Price']"
   ]
  },
  {
   "cell_type": "markdown",
   "metadata": {
    "id": "hstR5149SDrr"
   },
   "source": [
    "**Drop the Screen Resolution x_res, y_res, Incehes since no use we got a ppi attribte**"
   ]
  },
  {
   "cell_type": "code",
   "execution_count": null,
   "metadata": {
    "id": "FhcKr5frSSTg"
   },
   "outputs": [],
   "source": [
    "df.drop(columns=['ScreenResolution'],inplace=True)"
   ]
  },
  {
   "cell_type": "code",
   "execution_count": null,
   "metadata": {
    "id": "K8kZ7QNESWFw"
   },
   "outputs": [],
   "source": [
    "df.drop(columns=['Inches','X_res','Y_res'],inplace=True)"
   ]
  },
  {
   "cell_type": "code",
   "execution_count": null,
   "metadata": {
    "colab": {
     "base_uri": "https://localhost:8080/",
     "height": 0
    },
    "id": "X4hTWbMgSXSQ",
    "outputId": "f35397f5-e9d1-42ad-b583-5c38dead404b"
   },
   "outputs": [],
   "source": [
    "df.head()"
   ]
  },
  {
   "cell_type": "markdown",
   "metadata": {
    "id": "KRPkFYSRSo3h"
   },
   "source": [
    "## Feature Engineering for CPU"
   ]
  },
  {
   "cell_type": "code",
   "execution_count": null,
   "metadata": {
    "colab": {
     "base_uri": "https://localhost:8080/",
     "height": 0
    },
    "id": "5cxQivakSzX8",
    "outputId": "f02a9ec0-d404-4cca-a75a-14cb2e490122"
   },
   "outputs": [],
   "source": [
    "df['Cpu'].value_counts()"
   ]
  },
  {
   "cell_type": "markdown",
   "metadata": {
    "id": "SSRcKz9hS-Rr"
   },
   "source": [
    "**New Col with 1st 3 string of cpu**"
   ]
  },
  {
   "cell_type": "code",
   "execution_count": null,
   "metadata": {
    "id": "qxi4lIMGS14q"
   },
   "outputs": [],
   "source": [
    "df['Cpu Name'] = df['Cpu'].apply(lambda x:\" \".join(x.split()[0:3]))"
   ]
  },
  {
   "cell_type": "code",
   "execution_count": null,
   "metadata": {
    "colab": {
     "base_uri": "https://localhost:8080/",
     "height": 0
    },
    "id": "SgPI4N_6S6zb",
    "outputId": "de4c2689-9211-4db4-bf61-a299a4aa6f50"
   },
   "outputs": [],
   "source": [
    "df.head()"
   ]
  },
  {
   "cell_type": "markdown",
   "metadata": {
    "id": "d_iGjmAZTHju"
   },
   "source": [
    "**Function to split the cpu data to Intel , AMD and other intel Processors** - dunction accepts a string and return the result in string"
   ]
  },
  {
   "cell_type": "code",
   "execution_count": null,
   "metadata": {
    "id": "_0GtiXeLTarQ"
   },
   "outputs": [],
   "source": [
    "def fetch_processor(text):\n",
    "    if text == 'Intel Core i7' or text == 'Intel Core i5' or text == 'Intel Core i3':\n",
    "        return text\n",
    "    else:\n",
    "        if text.split()[0] == 'Intel':\n",
    "            return 'Other Intel Processor'\n",
    "        else:\n",
    "            return 'AMD Processor'"
   ]
  },
  {
   "cell_type": "markdown",
   "metadata": {
    "id": "cN8mq_rLTd_K"
   },
   "source": [
    "**Update the coloumn** - asign it to new col cpu brand"
   ]
  },
  {
   "cell_type": "code",
   "execution_count": null,
   "metadata": {
    "id": "zfIL1RmXThKA"
   },
   "outputs": [],
   "source": [
    "df['Cpu brand'] = df['Cpu Name'].apply(fetch_processor)"
   ]
  },
  {
   "cell_type": "code",
   "execution_count": null,
   "metadata": {
    "colab": {
     "base_uri": "https://localhost:8080/",
     "height": 0
    },
    "id": "lUChlHHTTisA",
    "outputId": "e26f961c-14b4-42f3-e26b-772d35ba7fc1"
   },
   "outputs": [],
   "source": [
    "df.head()"
   ]
  },
  {
   "cell_type": "markdown",
   "metadata": {
    "id": "uovnRDFyTtKS"
   },
   "source": [
    "**Types of CPUS**"
   ]
  },
  {
   "cell_type": "code",
   "execution_count": null,
   "metadata": {
    "colab": {
     "base_uri": "https://localhost:8080/",
     "height": 0
    },
    "id": "UMe_JlCLTzjr",
    "outputId": "698cccdb-e69b-4658-8c0f-ce980c22404d"
   },
   "outputs": [],
   "source": [
    "df['Cpu brand'].value_counts().plot(kind='bar')"
   ]
  },
  {
   "cell_type": "markdown",
   "metadata": {
    "id": "Ev_d4Ra5T5tb"
   },
   "source": [
    "**cpu brand to price analysis**"
   ]
  },
  {
   "cell_type": "code",
   "execution_count": null,
   "metadata": {
    "colab": {
     "base_uri": "https://localhost:8080/",
     "height": 0
    },
    "id": "JXSnMCcuT5Z2",
    "outputId": "10b4762e-8f3d-4cb5-eb8a-fd791de8b052"
   },
   "outputs": [],
   "source": [
    "sns.barplot(x=df['Cpu brand'],y=df['Price'])\n",
    "plt.xticks(rotation='vertical')\n",
    "plt.show()"
   ]
  },
  {
   "cell_type": "markdown",
   "metadata": {
    "id": "FsIx7IufUGQm"
   },
   "source": [
    "**Drop the cols**"
   ]
  },
  {
   "cell_type": "code",
   "execution_count": null,
   "metadata": {
    "id": "SfbHAonAUInO"
   },
   "outputs": [],
   "source": [
    "df.drop(columns=['Cpu','Cpu Name'],inplace=True)"
   ]
  },
  {
   "cell_type": "code",
   "execution_count": null,
   "metadata": {
    "colab": {
     "base_uri": "https://localhost:8080/",
     "height": 0
    },
    "id": "fqbOqyPkUKDI",
    "outputId": "eb6ca651-95cb-458e-b884-3a34d02d1736"
   },
   "outputs": [],
   "source": [
    "df.head()"
   ]
  },
  {
   "cell_type": "markdown",
   "metadata": {
    "id": "KD3JDIidUSVi"
   },
   "source": [
    "## RAM"
   ]
  },
  {
   "cell_type": "code",
   "execution_count": null,
   "metadata": {
    "colab": {
     "base_uri": "https://localhost:8080/",
     "height": 0
    },
    "id": "8ow7c6uSUdOw",
    "outputId": "e7e4b56b-106c-4702-b926-bf1890aa0fd9"
   },
   "outputs": [],
   "source": [
    "df['Ram'].value_counts().plot(kind='bar')"
   ]
  },
  {
   "cell_type": "code",
   "execution_count": null,
   "metadata": {
    "colab": {
     "base_uri": "https://localhost:8080/",
     "height": 0
    },
    "id": "vO486xkNUgL4",
    "outputId": "69fb6ff4-a32b-40d0-dca5-68077f0b5fd8"
   },
   "outputs": [],
   "source": [
    "sns.barplot(x=df['Ram'],y=df['Price'])\n",
    "plt.xticks(rotation='vertical')\n",
    "plt.show()"
   ]
  },
  {
   "cell_type": "markdown",
   "metadata": {
    "id": "stINIQEHUjJx"
   },
   "source": [
    "## Memory - Feature Engineering"
   ]
  },
  {
   "cell_type": "code",
   "execution_count": null,
   "metadata": {
    "colab": {
     "base_uri": "https://localhost:8080/",
     "height": 0
    },
    "id": "3V4ZU0QjUp_6",
    "outputId": "0a757866-7576-4bf3-d5dd-7cc16e68c4e0"
   },
   "outputs": [],
   "source": [
    "df['Memory'].value_counts()"
   ]
  },
  {
   "cell_type": "markdown",
   "metadata": {
    "id": "kKb-QMA-Uu_f"
   },
   "source": [
    "**Transforming the memmory coloms into 4 new coloums -** HDD, SSD, Flash, Hybrid"
   ]
  },
  {
   "cell_type": "code",
   "execution_count": null,
   "metadata": {
    "id": "dSUjyVsfUw06"
   },
   "outputs": [],
   "source": [
    "df['Memory'] = df['Memory'].astype(str).replace('\\.0', '', regex=True)\n",
    "df[\"Memory\"] = df[\"Memory\"].str.replace('GB', '')\n",
    "df[\"Memory\"] = df[\"Memory\"].str.replace('TB', '000')\n",
    "new = df[\"Memory\"].str.split(\"+\", n = 1, expand = True)\n",
    "\n",
    "df[\"first\"]= new[0]\n",
    "df[\"first\"]=df[\"first\"].str.strip()\n",
    "\n",
    "df[\"second\"]= new[1]\n",
    "\n",
    "df[\"Layer1HDD\"] = df[\"first\"].apply(lambda x: 1 if \"HDD\" in x else 0)\n",
    "df[\"Layer1SSD\"] = df[\"first\"].apply(lambda x: 1 if \"SSD\" in x else 0)\n",
    "df[\"Layer1Hybrid\"] = df[\"first\"].apply(lambda x: 1 if \"Hybrid\" in x else 0)\n",
    "df[\"Layer1Flash_Storage\"] = df[\"first\"].apply(lambda x: 1 if \"Flash Storage\" in x else 0)\n",
    "\n",
    "df['first'] = df['first'].str.replace(r'\\D', '',regex=True)\n",
    "\n",
    "df[\"second\"].fillna(\"0\", inplace = True)\n",
    "\n",
    "df[\"Layer2HDD\"] = df[\"second\"].apply(lambda x: 1 if \"HDD\" in x else 0)\n",
    "df[\"Layer2SSD\"] = df[\"second\"].apply(lambda x: 1 if \"SSD\" in x else 0)\n",
    "df[\"Layer2Hybrid\"] = df[\"second\"].apply(lambda x: 1 if \"Hybrid\" in x else 0)\n",
    "df[\"Layer2Flash_Storage\"] = df[\"second\"].apply(lambda x: 1 if \"Flash Storage\" in x else 0)\n",
    "\n",
    "df['second'] = df['second'].str.replace(r'\\D', '',regex=True)\n",
    "\n",
    "df[\"first\"] = df[\"first\"].astype(int)\n",
    "df[\"second\"] = df[\"second\"].astype(int)\n",
    "\n",
    "df[\"HDD\"]=(df[\"first\"]*df[\"Layer1HDD\"]+df[\"second\"]*df[\"Layer2HDD\"])\n",
    "df[\"SSD\"]=(df[\"first\"]*df[\"Layer1SSD\"]+df[\"second\"]*df[\"Layer2SSD\"])\n",
    "df[\"Hybrid\"]=(df[\"first\"]*df[\"Layer1Hybrid\"]+df[\"second\"]*df[\"Layer2Hybrid\"])\n",
    "df[\"Flash_Storage\"]=(df[\"first\"]*df[\"Layer1Flash_Storage\"]+df[\"second\"]*df[\"Layer2Flash_Storage\"])\n",
    "\n",
    "df.drop(columns=['first', 'second', 'Layer1HDD', 'Layer1SSD', 'Layer1Hybrid',\n",
    "       'Layer1Flash_Storage', 'Layer2HDD', 'Layer2SSD', 'Layer2Hybrid',\n",
    "       'Layer2Flash_Storage'],inplace=True)"
   ]
  },
  {
   "cell_type": "code",
   "execution_count": null,
   "metadata": {
    "colab": {
     "base_uri": "https://localhost:8080/",
     "height": 0
    },
    "id": "-dT-LcF3Vssy",
    "outputId": "0bcb5fe4-70c6-4971-f2e2-5c5f8cfdc998"
   },
   "outputs": [],
   "source": [
    "df.sample(5)"
   ]
  },
  {
   "cell_type": "code",
   "execution_count": null,
   "metadata": {
    "id": "NYHZQK55Vw-i"
   },
   "outputs": [],
   "source": [
    "df.drop(columns=['Memory'],inplace=True)"
   ]
  },
  {
   "cell_type": "code",
   "execution_count": null,
   "metadata": {
    "colab": {
     "base_uri": "https://localhost:8080/",
     "height": 0
    },
    "id": "NVG5y0cnVydy",
    "outputId": "b75667bf-7b9b-4614-b26c-86582b795bc9"
   },
   "outputs": [],
   "source": [
    "df.head()"
   ]
  },
  {
   "cell_type": "code",
   "execution_count": null,
   "metadata": {
    "colab": {
     "base_uri": "https://localhost:8080/",
     "height": 0
    },
    "id": "KBC9UktLV0Va",
    "outputId": "627a35d6-3b79-4570-b7f5-0fd9d0ad1684"
   },
   "outputs": [],
   "source": [
    "df.select_dtypes(include=np.number).corr()['Price']"
   ]
  },
  {
   "cell_type": "markdown",
   "metadata": {
    "id": "oHlMKECkWPXu"
   },
   "source": [
    "**Droping coloumns as no muc corrrlation with price**"
   ]
  },
  {
   "cell_type": "code",
   "execution_count": null,
   "metadata": {
    "id": "nkA83kc1WOfm"
   },
   "outputs": [],
   "source": [
    "df.drop(columns=['Hybrid','Flash_Storage'],inplace=True)"
   ]
  },
  {
   "cell_type": "code",
   "execution_count": null,
   "metadata": {
    "colab": {
     "base_uri": "https://localhost:8080/",
     "height": 0
    },
    "id": "63zO2D4BWWH_",
    "outputId": "6bd35a8c-90ff-403b-fa20-0818cf2a8695"
   },
   "outputs": [],
   "source": [
    "df.head()"
   ]
  },
  {
   "cell_type": "markdown",
   "metadata": {
    "id": "PFv1RsrmWZtY"
   },
   "source": [
    "## GPU - Feature Engineering"
   ]
  },
  {
   "cell_type": "code",
   "execution_count": null,
   "metadata": {
    "colab": {
     "base_uri": "https://localhost:8080/",
     "height": 0
    },
    "id": "wmNLfINZWjgB",
    "outputId": "2c9ddc8c-e756-49ea-d848-cbec4aaaabe8"
   },
   "outputs": [],
   "source": [
    "df['Gpu'].value_counts()"
   ]
  },
  {
   "cell_type": "markdown",
   "metadata": {
    "id": "JDyb02IMWplp"
   },
   "source": [
    "**Split and fetch 1st string to get brand**"
   ]
  },
  {
   "cell_type": "code",
   "execution_count": null,
   "metadata": {
    "id": "HupOHeG3Ww3b"
   },
   "outputs": [],
   "source": [
    "df['Gpu brand'] = df['Gpu'].apply(lambda x:x.split()[0])"
   ]
  },
  {
   "cell_type": "code",
   "execution_count": null,
   "metadata": {
    "colab": {
     "base_uri": "https://localhost:8080/",
     "height": 0
    },
    "id": "iWcGzGZOWynS",
    "outputId": "4961feca-6d1b-483e-b224-71ec14ce87a4"
   },
   "outputs": [],
   "source": [
    "df.head()"
   ]
  },
  {
   "cell_type": "code",
   "execution_count": null,
   "metadata": {
    "colab": {
     "base_uri": "https://localhost:8080/",
     "height": 0
    },
    "id": "4wZAR74BW2J8",
    "outputId": "2ed2d603-0891-4b3b-a559-2c6a5655a799"
   },
   "outputs": [],
   "source": [
    "df['Gpu brand'].value_counts()"
   ]
  },
  {
   "cell_type": "markdown",
   "metadata": {
    "id": "eyEICTYkW5Gj"
   },
   "source": [
    "**remove row ARM brand for gpu**"
   ]
  },
  {
   "cell_type": "code",
   "execution_count": null,
   "metadata": {
    "id": "C1DR0FaNW8dM"
   },
   "outputs": [],
   "source": [
    "df = df[df['Gpu brand'] != 'ARM']"
   ]
  },
  {
   "cell_type": "code",
   "execution_count": null,
   "metadata": {
    "colab": {
     "base_uri": "https://localhost:8080/",
     "height": 0
    },
    "id": "LgdQiO2PW-c8",
    "outputId": "96adb108-c94d-4819-edcc-3b4dc18d09d6"
   },
   "outputs": [],
   "source": [
    "df['Gpu brand'].value_counts()"
   ]
  },
  {
   "cell_type": "markdown",
   "metadata": {
    "id": "MT-GA2fHXBlV"
   },
   "source": [
    "**Gpu price Analysis**"
   ]
  },
  {
   "cell_type": "code",
   "execution_count": null,
   "metadata": {
    "colab": {
     "base_uri": "https://localhost:8080/",
     "height": 0
    },
    "id": "8M9jXWU-XATl",
    "outputId": "d5f05f52-1f01-46cb-8af8-024263f51344"
   },
   "outputs": [],
   "source": [
    "sns.barplot(x=df['Gpu brand'],y=df['Price'],estimator=np.median)\n",
    "plt.xticks(rotation='vertical')\n",
    "plt.show()"
   ]
  },
  {
   "cell_type": "code",
   "execution_count": null,
   "metadata": {
    "id": "E8EsPr8kXHKF"
   },
   "outputs": [],
   "source": [
    "df.drop(columns=['Gpu'],inplace=True)"
   ]
  },
  {
   "cell_type": "code",
   "execution_count": null,
   "metadata": {
    "colab": {
     "base_uri": "https://localhost:8080/",
     "height": 0
    },
    "id": "0jGwwcz2XJLN",
    "outputId": "45c4e030-b42d-4dc1-a6e5-a82a3e25edfb"
   },
   "outputs": [],
   "source": [
    "df.head()"
   ]
  },
  {
   "cell_type": "markdown",
   "metadata": {
    "id": "nEsMNuddXLv1"
   },
   "source": [
    "## Operating System and Weight"
   ]
  },
  {
   "cell_type": "code",
   "execution_count": null,
   "metadata": {
    "colab": {
     "base_uri": "https://localhost:8080/",
     "height": 0
    },
    "id": "TOVvIeS2Xakg",
    "outputId": "6b437112-0ad2-44ae-db24-2c9ad17a837b"
   },
   "outputs": [],
   "source": [
    "df['OpSys'].value_counts()"
   ]
  },
  {
   "cell_type": "code",
   "execution_count": null,
   "metadata": {
    "colab": {
     "base_uri": "https://localhost:8080/",
     "height": 0
    },
    "id": "j3gvaUV8Xb9_",
    "outputId": "c6f35332-0cae-48f8-80c7-1dc3d6b78790"
   },
   "outputs": [],
   "source": [
    "sns.barplot(x=df['OpSys'],y=df['Price'])\n",
    "plt.xticks(rotation='vertical')\n",
    "plt.show()"
   ]
  },
  {
   "cell_type": "markdown",
   "metadata": {
    "id": "M8FfbW9AXgWg"
   },
   "source": [
    "**Function to catagorise the os to windows, mac or others**"
   ]
  },
  {
   "cell_type": "code",
   "execution_count": null,
   "metadata": {
    "id": "9xl7shjCXtdq"
   },
   "outputs": [],
   "source": [
    "def cat_os(inp):\n",
    "    if inp == 'Windows 10' or inp == 'Windows 7' or inp == 'Windows 10 S':\n",
    "        return 'Windows'\n",
    "    elif inp == 'macOS' or inp == 'Mac OS X':\n",
    "        return 'Mac'\n",
    "    else:\n",
    "        return 'Others/No OS/Linux'"
   ]
  },
  {
   "cell_type": "code",
   "execution_count": null,
   "metadata": {
    "id": "MmFw6ca1XvV0"
   },
   "outputs": [],
   "source": [
    "df['os'] = df['OpSys'].apply(cat_os)"
   ]
  },
  {
   "cell_type": "code",
   "execution_count": null,
   "metadata": {
    "colab": {
     "base_uri": "https://localhost:8080/",
     "height": 0
    },
    "id": "GgDd5-3XXxWL",
    "outputId": "41f21bcc-8c9e-45f0-cdbc-a516577477df"
   },
   "outputs": [],
   "source": [
    "df.head()"
   ]
  },
  {
   "cell_type": "code",
   "execution_count": null,
   "metadata": {
    "id": "utxpj8RkXzLL"
   },
   "outputs": [],
   "source": [
    "df.drop(columns=['OpSys'],inplace=True)"
   ]
  },
  {
   "cell_type": "code",
   "execution_count": null,
   "metadata": {
    "colab": {
     "base_uri": "https://localhost:8080/",
     "height": 0
    },
    "id": "uMz-iYogX1ns",
    "outputId": "b070fc9d-73a2-41b9-fa7b-1e2c148e4eaf"
   },
   "outputs": [],
   "source": [
    "sns.barplot(x=df['os'],y=df['Price'])\n",
    "plt.xticks(rotation='vertical')\n",
    "plt.show()"
   ]
  },
  {
   "cell_type": "markdown",
   "metadata": {
    "id": "5s552-RaX6ES"
   },
   "source": [
    "**WEIGHT**"
   ]
  },
  {
   "cell_type": "code",
   "execution_count": null,
   "metadata": {
    "colab": {
     "base_uri": "https://localhost:8080/",
     "height": 0
    },
    "id": "j5VB9GGtX8Wk",
    "outputId": "4612120f-68b8-4d47-b382-9d2621526636"
   },
   "outputs": [],
   "source": [
    "sns.distplot(df['Weight'])"
   ]
  },
  {
   "cell_type": "code",
   "execution_count": null,
   "metadata": {
    "colab": {
     "base_uri": "https://localhost:8080/",
     "height": 0
    },
    "id": "yfVF1EBmX_MU",
    "outputId": "f9fd665b-6af3-4b8a-ba29-c161a8f53ff6"
   },
   "outputs": [],
   "source": [
    "sns.scatterplot(x=df['Weight'],y=df['Price'])"
   ]
  },
  {
   "cell_type": "code",
   "execution_count": null,
   "metadata": {
    "colab": {
     "base_uri": "https://localhost:8080/",
     "height": 0
    },
    "id": "_Fwi4zOfYVx_",
    "outputId": "640e97e8-e7b8-427a-f4fe-b8b0ed06add4"
   },
   "outputs": [],
   "source": [
    "df.select_dtypes(include=np.number).corr()['Price']"
   ]
  },
  {
   "cell_type": "code",
   "execution_count": null,
   "metadata": {
    "colab": {
     "base_uri": "https://localhost:8080/",
     "height": 0
    },
    "id": "7bwfjmgzYX63",
    "outputId": "8d4a96e7-1b31-47bc-e7ab-9c6f17a344b4"
   },
   "outputs": [],
   "source": [
    "sns.heatmap(df.select_dtypes(include=np.number).corr())"
   ]
  },
  {
   "cell_type": "markdown",
   "metadata": {
    "id": "QLLQcNtBYjXB"
   },
   "source": [
    "# **Training the Model**"
   ]
  },
  {
   "cell_type": "markdown",
   "metadata": {
    "id": "UWatD_KcYwzy"
   },
   "source": [
    "**Converting to log to improve the Skewed data**"
   ]
  },
  {
   "cell_type": "code",
   "execution_count": null,
   "metadata": {
    "colab": {
     "base_uri": "https://localhost:8080/",
     "height": 657
    },
    "id": "NyAsZMAwY-pE",
    "outputId": "a6decf2a-fbcd-42f9-fb61-d6281e2afc8b"
   },
   "outputs": [],
   "source": [
    "sns.distplot(np.log(df['Price']))"
   ]
  },
  {
   "cell_type": "markdown",
   "metadata": {
    "id": "4gMOQPwxZIxF"
   },
   "source": [
    "**x and y for training**"
   ]
  },
  {
   "cell_type": "code",
   "execution_count": null,
   "metadata": {
    "id": "8J4si_78ZNCx"
   },
   "outputs": [],
   "source": [
    "X = df.drop(columns=['Price'])\n",
    "y = np.log(df['Price'])"
   ]
  },
  {
   "cell_type": "code",
   "execution_count": null,
   "metadata": {
    "colab": {
     "base_uri": "https://localhost:8080/",
     "height": 423
    },
    "id": "zkS_WEfbZOde",
    "outputId": "ff5c28d7-e66c-4714-acab-b2c0dd3ed855"
   },
   "outputs": [],
   "source": [
    "X"
   ]
  },
  {
   "cell_type": "code",
   "execution_count": null,
   "metadata": {
    "colab": {
     "base_uri": "https://localhost:8080/",
     "height": 458
    },
    "id": "_DpF1iUWZQu_",
    "outputId": "97ee220f-fa0e-4b23-c0b8-675258ba0b0f"
   },
   "outputs": [],
   "source": [
    "y"
   ]
  },
  {
   "cell_type": "markdown",
   "metadata": {
    "id": "lTRzKjrIOHx7"
   },
   "source": []
  },
  {
   "cell_type": "markdown",
   "metadata": {
    "id": "_WTt8JY3OLyD"
   },
   "source": [
    "# Linear Regression"
   ]
  },
  {
   "cell_type": "code",
   "execution_count": null,
   "metadata": {
    "colab": {
     "base_uri": "https://localhost:8080/",
     "height": 307
    },
    "id": "UyFGzcbiPDJv",
    "outputId": "7a86bc0c-5001-4069-f73b-f9b125b37c17"
   },
   "outputs": [],
   "source": [
    "import pandas as pd\n",
    "\n",
    "# List of categorical columns\n",
    "categorical_columns = ['Company', 'TypeName', 'Cpu brand', 'Gpu brand', 'os']\n",
    "\n",
    "# One-Hot Encoding categorical features\n",
    "X_encoded = pd.get_dummies(X, columns=categorical_columns, drop_first=True)\n",
    "\n",
    "# Check the encoded data\n",
    "X_encoded.head()\n"
   ]
  },
  {
   "cell_type": "markdown",
   "metadata": {
    "id": "pmM8xZULORqk"
   },
   "source": [
    "**Slpit the data**"
   ]
  },
  {
   "cell_type": "code",
   "execution_count": null,
   "metadata": {
    "id": "jOdWm4CMOWcC"
   },
   "outputs": [],
   "source": [
    "from sklearn.model_selection import train_test_split\n",
    "\n",
    "# Assuming 'X_encoded' is the one-hot encoded features and 'y' is the target variable (Price)\n",
    "X_train, X_test, y_train, y_test = train_test_split(X_encoded, y, test_size=0.2, random_state=42)\n",
    "\n"
   ]
  },
  {
   "cell_type": "code",
   "execution_count": null,
   "metadata": {
    "colab": {
     "base_uri": "https://localhost:8080/",
     "height": 74
    },
    "id": "PMpJ-7fXObOZ",
    "outputId": "ad9b5870-9629-4a56-bfcf-cbd538aa1353"
   },
   "outputs": [],
   "source": [
    "from sklearn.linear_model import LinearRegression\n",
    "\n",
    "# Create the model\n",
    "model = LinearRegression()\n",
    "\n",
    "# Train the model\n",
    "model.fit(X_train, y_train)\n"
   ]
  },
  {
   "cell_type": "code",
   "execution_count": null,
   "metadata": {
    "colab": {
     "base_uri": "https://localhost:8080/"
    },
    "id": "tkH4cHUUPjFz",
    "outputId": "f6f12211-a2bc-4ab3-8ffd-9bccd3967b68"
   },
   "outputs": [],
   "source": [
    "from sklearn.metrics import mean_squared_error, r2_score\n",
    "\n",
    "# Predict on the test set\n",
    "y_pred = model.predict(X_test)\n",
    "\n",
    "# Calculate the Mean Squared Error and R-squared\n",
    "mse = mean_squared_error(y_test, y_pred)\n",
    "r2 = r2_score(y_test, y_pred)\n",
    "\n",
    "print(f\"Mean Squared Error: {mse}\")\n",
    "print(f\"R-squared: {r2}\")\n"
   ]
  },
  {
   "cell_type": "code",
   "execution_count": null,
   "metadata": {
    "colab": {
     "base_uri": "https://localhost:8080/"
    },
    "id": "Rn-nS26PPkvE",
    "outputId": "f56844a2-165c-4840-9591-86db426fd9cf"
   },
   "outputs": [],
   "source": [
    "import joblib\n",
    "\n",
    "# Save the trained model to a file\n",
    "joblib.dump(model, 'laptop_price_predictor_model.pkl')\n",
    "\n",
    "print(\"Model saved successfully!\")\n"
   ]
  },
  {
   "cell_type": "markdown",
   "metadata": {
    "id": "-AFRFik5QC4u"
   },
   "source": [
    "# Tests"
   ]
  },
  {
   "cell_type": "code",
   "execution_count": null,
   "metadata": {
    "id": "O_TOPCO7QGen"
   },
   "outputs": [],
   "source": [
    "# Make predictions on the test set\n",
    "y_pred = model.predict(X_test)\n"
   ]
  },
  {
   "cell_type": "code",
   "execution_count": null,
   "metadata": {
    "colab": {
     "base_uri": "https://localhost:8080/"
    },
    "id": "iu16g5w9QIhv",
    "outputId": "66bd0db7-0ed3-43bf-b466-b8e988bb8a75"
   },
   "outputs": [],
   "source": [
    "# Create a DataFrame to compare the actual vs predicted prices\n",
    "comparison_df = pd.DataFrame({'Actual Price': y_test, 'Predicted Price': y_pred})\n",
    "\n",
    "# Show the first few rows of the comparison\n",
    "print(comparison_df.head())\n"
   ]
  },
  {
   "cell_type": "code",
   "execution_count": null,
   "metadata": {
    "colab": {
     "base_uri": "https://localhost:8080/",
     "height": 472
    },
    "id": "-z5ETZ_LQONH",
    "outputId": "f90a8f39-61a2-4dc3-d4b0-df614a3424e4"
   },
   "outputs": [],
   "source": [
    "import matplotlib.pyplot as plt\n",
    "\n",
    "# Plot actual vs predicted values\n",
    "plt.scatter(y_test, y_pred)\n",
    "plt.xlabel('Actual Price')\n",
    "plt.ylabel('Predicted Price')\n",
    "plt.title('Actual vs Predicted Prices')\n",
    "plt.show()\n"
   ]
  }
 ],
 "metadata": {
  "colab": {
   "provenance": []
  },
  "kernelspec": {
   "display_name": "Python 3 (ipykernel)",
   "language": "python",
   "name": "python3"
  },
  "language_info": {
   "codemirror_mode": {
    "name": "ipython",
    "version": 3
   },
   "file_extension": ".py",
   "mimetype": "text/x-python",
   "name": "python",
   "nbconvert_exporter": "python",
   "pygments_lexer": "ipython3",
   "version": "3.12.3"
  }
 },
 "nbformat": 4,
 "nbformat_minor": 4
}
