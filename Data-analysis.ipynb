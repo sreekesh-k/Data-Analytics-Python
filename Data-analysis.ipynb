{
 "cells": [
  {
   "cell_type": "markdown",
   "id": "d5e2638f-7872-46be-a509-ac07b7c0e73c",
   "metadata": {},
   "source": [
    "\n",
    "# IMPORTS\n"
   ]
  },
  {
   "cell_type": "code",
   "execution_count": null,
   "id": "fcba8dda-3410-4c9d-8feb-d05c14b7d99f",
   "metadata": {},
   "outputs": [],
   "source": [
    "import numpy as np\n",
    "import pandas as pd\n",
    "import seaborn as sns\n",
    "import matplotlib.pyplot as plt\n",
    "\n",
    "from sklearn.datasets import load_iris\n",
    "from sklearn.linear_model import LogisticRegression\n",
    "from sklearn.model_selection import train_test_split\n",
    "from sklearn.preprocessing import LabelEncoder\n",
    "from sklearn.metrics import confusion_matrix, precision_score, recall_score, f1_score, accuracy_score\n"
   ]
  },
  {
   "cell_type": "markdown",
   "id": "55995a95-a8fc-4f44-8ce3-97d706568d5e",
   "metadata": {},
   "source": [
    "## get the data"
   ]
  },
  {
   "cell_type": "code",
   "execution_count": null,
   "id": "bfdc06a8-d108-449d-861e-51c024ec0bce",
   "metadata": {},
   "outputs": [],
   "source": [
    "data = load_iris()"
   ]
  },
  {
   "cell_type": "code",
   "execution_count": null,
   "id": "afeec52e-1546-42d8-b75a-c12910167187",
   "metadata": {},
   "outputs": [],
   "source": [
    "data.keys()"
   ]
  },
  {
   "cell_type": "code",
   "execution_count": null,
   "id": "b2177b8a-31f9-475a-8c8d-2067decf5b3e",
   "metadata": {},
   "outputs": [],
   "source": [
    "data['target_names']"
   ]
  },
  {
   "cell_type": "code",
   "execution_count": null,
   "id": "f57f0c1c-d5c2-4b80-b422-49e31d8a468d",
   "metadata": {},
   "outputs": [],
   "source": [
    "df = pd.DataFrame(data=data['data'], columns=data['feature_names'])"
   ]
  },
  {
   "cell_type": "code",
   "execution_count": null,
   "id": "8282dd2d-9dcc-408b-9e00-9e61dfcfbe2a",
   "metadata": {},
   "outputs": [],
   "source": [
    "df.head()"
   ]
  },
  {
   "cell_type": "code",
   "execution_count": null,
   "id": "b044d60c-94d9-42ed-9d8f-26db2c485daa",
   "metadata": {},
   "outputs": [],
   "source": [
    "df[\"target\"] = data[\"target\"]"
   ]
  },
  {
   "cell_type": "code",
   "execution_count": null,
   "id": "4be91f17-0f14-4120-89b5-d7088903c89b",
   "metadata": {},
   "outputs": [],
   "source": [
    "df.tail()"
   ]
  },
  {
   "cell_type": "code",
   "execution_count": null,
   "id": "e917fd4e-e2af-4994-accd-7d83ed2b05d0",
   "metadata": {},
   "outputs": [],
   "source": [
    "df[\"target\"] = df[\"target\"].map({0:'setosa', 1 : 'versicolor', 2 : 'virginica'})"
   ]
  },
  {
   "cell_type": "code",
   "execution_count": null,
   "id": "19245f93-26d5-4f30-a325-c1e086e26cf0",
   "metadata": {},
   "outputs": [],
   "source": [
    "df.tail()"
   ]
  },
  {
   "cell_type": "code",
   "execution_count": null,
   "id": "953af524-d438-489b-adcb-d3ac4b7cbacb",
   "metadata": {},
   "outputs": [],
   "source": [
    "df.isnull().sum()"
   ]
  },
  {
   "cell_type": "code",
   "execution_count": null,
   "id": "4883b366-b1af-479f-b5b8-4ca5ad42aab2",
   "metadata": {},
   "outputs": [],
   "source": [
    "df.duplicated().sum()"
   ]
  },
  {
   "cell_type": "code",
   "execution_count": null,
   "id": "d9bab1cb-44e3-4370-ab6d-f0c3f843c6c9",
   "metadata": {},
   "outputs": [],
   "source": [
    "df.drop_duplicates()"
   ]
  },
  {
   "cell_type": "code",
   "execution_count": null,
   "id": "ae5081f6-3bd3-48c2-abf9-0a54353f50dd",
   "metadata": {},
   "outputs": [],
   "source": [
    "df.info()"
   ]
  },
  {
   "cell_type": "code",
   "execution_count": null,
   "id": "b0d1ad28-d362-4998-9a32-c6b31baa57b7",
   "metadata": {},
   "outputs": [],
   "source": [
    "df.describe()"
   ]
  },
  {
   "cell_type": "code",
   "execution_count": null,
   "id": "5a0632e4-bfb8-4681-9a16-37fe84e31b4a",
   "metadata": {},
   "outputs": [],
   "source": [
    "df.shape"
   ]
  },
  {
   "cell_type": "markdown",
   "id": "a64d351d-bf37-4174-bf95-c1a83a4fb01f",
   "metadata": {
    "jp-MarkdownHeadingCollapsed": true
   },
   "source": [
    "# Filter Data"
   ]
  },
  {
   "cell_type": "code",
   "execution_count": null,
   "id": "258fba88-8156-4823-a0c4-eba6d0514a98",
   "metadata": {},
   "outputs": [],
   "source": [
    "df"
   ]
  },
  {
   "cell_type": "code",
   "execution_count": null,
   "id": "70b17e7d-f4e1-459e-a471-e798596becbd",
   "metadata": {},
   "outputs": [],
   "source": [
    "encoder  = LabelEncoder()\n",
    "\n",
    "df['target'] = encoder.fit_transform(df['target'])"
   ]
  },
  {
   "cell_type": "code",
   "execution_count": null,
   "id": "6a8a1070-ac3e-451c-bb48-2b49b84517da",
   "metadata": {},
   "outputs": [],
   "source": [
    "df"
   ]
  },
  {
   "cell_type": "code",
   "execution_count": null,
   "id": "195bab31-075b-42b0-ae0e-5ade9911aa8f",
   "metadata": {},
   "outputs": [],
   "source": [
    "sns.pairplot(df,hue='target')\n",
    "plt.show()"
   ]
  },
  {
   "cell_type": "code",
   "execution_count": null,
   "id": "1c824c72-a9fb-4c75-a59a-db5c9f4e0db2",
   "metadata": {},
   "outputs": [],
   "source": [
    "sns.histplot(df['sepal length (cm)'])\n",
    "plt.show()"
   ]
  },
  {
   "cell_type": "markdown",
   "id": "a1e2e258-b00d-42c1-a802-fea1423a342f",
   "metadata": {},
   "source": [
    "# Taining the model"
   ]
  },
  {
   "cell_type": "code",
   "execution_count": null,
   "id": "d97157fb-d978-4c10-ba61-e3888ed801c2",
   "metadata": {},
   "outputs": [],
   "source": [
    "df\n"
   ]
  },
  {
   "cell_type": "code",
   "execution_count": null,
   "id": "460765ee-c209-4a42-819a-bbfc35ea1300",
   "metadata": {},
   "outputs": [],
   "source": [
    "X = df.drop(columns = ['target'])\n",
    "y = df[\"target\"]\n",
    "\n",
    "X_train, X_test, y_train, y_test = train_test_split(X,y,test_size=0.2,random_state=42)"
   ]
  },
  {
   "cell_type": "code",
   "execution_count": null,
   "id": "c485eff9-ba51-4687-a855-529a66a254b2",
   "metadata": {},
   "outputs": [],
   "source": [
    "X_train"
   ]
  },
  {
   "cell_type": "code",
   "execution_count": null,
   "id": "6d9e27c8-133f-46c9-b339-b2ce929c5570",
   "metadata": {},
   "outputs": [],
   "source": [
    "X_test"
   ]
  },
  {
   "cell_type": "code",
   "execution_count": null,
   "id": "895852e5-4737-4ec6-be40-f7e8ec92c5e7",
   "metadata": {},
   "outputs": [],
   "source": [
    "y_test"
   ]
  },
  {
   "cell_type": "code",
   "execution_count": null,
   "id": "aefbdc47-f797-461c-b8c4-02c4f78620cb",
   "metadata": {},
   "outputs": [],
   "source": [
    "y_train"
   ]
  },
  {
   "cell_type": "code",
   "execution_count": null,
   "id": "b41a1dd7-540f-42ba-af0f-525553d8b2a0",
   "metadata": {},
   "outputs": [],
   "source": [
    "model = LogisticRegression(max_iter=200)\n",
    "model.fit(X_train, y_train)"
   ]
  },
  {
   "cell_type": "code",
   "execution_count": null,
   "id": "280e7e4d-cf0c-40a7-b3e4-0673be58233d",
   "metadata": {},
   "outputs": [],
   "source": [
    "y_pred = model.predict(X_test)"
   ]
  },
  {
   "cell_type": "code",
   "execution_count": null,
   "id": "df8aa09e-da0c-49f7-9111-6644c77706ea",
   "metadata": {},
   "outputs": [],
   "source": [
    "y_pred"
   ]
  },
  {
   "cell_type": "code",
   "execution_count": null,
   "id": "a46274bc-241a-4bbc-bb2d-b4723451f6a8",
   "metadata": {},
   "outputs": [],
   "source": [
    "y_test"
   ]
  },
  {
   "cell_type": "markdown",
   "id": "45ca26a4-9994-4de3-95fc-89f2eeb6f99b",
   "metadata": {},
   "source": [
    "# RSULTS"
   ]
  },
  {
   "cell_type": "code",
   "execution_count": null,
   "id": "47cd9788-e170-4d62-a712-3a315cea37de",
   "metadata": {},
   "outputs": [],
   "source": [
    "cm = confusion_matrix(y_test,y_pred)"
   ]
  },
  {
   "cell_type": "code",
   "execution_count": null,
   "id": "bf0a63d9-e50a-4458-a293-a9800a35fd32",
   "metadata": {},
   "outputs": [],
   "source": [
    "sns.heatmap(cm,annot=True,cmap='coolwarm')\n",
    "plt.show()"
   ]
  },
  {
   "cell_type": "code",
   "execution_count": null,
   "id": "d8e287c3-db9f-45dd-8d70-8f1bf7703c26",
   "metadata": {},
   "outputs": [],
   "source": [
    "precision = precision_score(y_test,y_pred, average=\"weighted\")\n",
    "recall = recall_score(y_test,y_pred, average=\"weighted\")\n",
    "accuracy = accuracy_score(y_test,y_pred)\n",
    "f1 = f1_score(y_test,y_pred, average=\"weighted\")"
   ]
  },
  {
   "cell_type": "code",
   "execution_count": null,
   "id": "a0dc6f60-5a97-4773-a6d6-e3059f0c351b",
   "metadata": {},
   "outputs": [],
   "source": [
    "precision"
   ]
  },
  {
   "cell_type": "code",
   "execution_count": null,
   "id": "2763ff6d-7636-4959-bf44-bbcddf28230b",
   "metadata": {},
   "outputs": [],
   "source": []
  }
 ],
 "metadata": {
  "kernelspec": {
   "display_name": "Python 3 (ipykernel)",
   "language": "python",
   "name": "python3"
  },
  "language_info": {
   "codemirror_mode": {
    "name": "ipython",
    "version": 3
   },
   "file_extension": ".py",
   "mimetype": "text/x-python",
   "name": "python",
   "nbconvert_exporter": "python",
   "pygments_lexer": "ipython3",
   "version": "3.12.3"
  }
 },
 "nbformat": 4,
 "nbformat_minor": 5
}
